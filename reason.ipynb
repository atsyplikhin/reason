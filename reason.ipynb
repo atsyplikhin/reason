{
 "cells": [
  {
   "cell_type": "code",
   "execution_count": 1,
   "metadata": {},
   "outputs": [],
   "source": [
    "from dotenv import load_dotenv\n",
    "import yaml\n",
    "import os\n",
    "import openai\n",
    "from src.tree_node import TreeNode\n",
    "from src.api_completion import Completion\n",
    "import numpy as np"
   ]
  },
  {
   "cell_type": "code",
   "execution_count": 4,
   "metadata": {},
   "outputs": [],
   "source": [
    "config_file = \"config.yaml\"\n",
    "\n",
    "# Load experiment config\n",
    "with open(config_file) as file:\n",
    "    cfg = yaml.load(file, Loader=yaml.loader.SafeLoader)\n"
   ]
  },
  {
   "cell_type": "code",
   "execution_count": 5,
   "metadata": {},
   "outputs": [],
   "source": [
    "_ = load_dotenv()\n",
    "oai_client = openai.OpenAI(api_key=os.getenv(\"OPENAI_API_KEY\"))\n",
    "\n",
    "generator = Completion(oai_client=oai_client)\n",
    "generator_args = {\n",
    "    \"model\": cfg[\"generator\"][\"model\"],\n",
    "    \"system\": cfg[\"generator\"][\"system_prompt\"],\n",
    "    \"max_tokens\": cfg[\"generator\"][\"max_tokens\"],\n",
    "    \"temperature\": cfg[\"generator\"][\"temperature\"],\n",
    "    \"n\": cfg[\"generator\"][\"n\"]\n",
    "}\n",
    "\n",
    "verifier = Completion(oai_client=oai_client)\n",
    "verifier_args = {\n",
    "    \"model\": cfg[\"verifier\"][\"model\"],\n",
    "    \"system\": cfg[\"verifier\"][\"system_prompt\"],\n",
    "    \"max_tokens\": cfg[\"verifier\"][\"max_tokens\"],\n",
    "    \"temperature\": cfg[\"verifier\"][\"temperature\"],\n",
    "    \"logprobs\": cfg[\"verifier\"][\"logprobs\"],\n",
    "    \"top_logprobs\": cfg[\"verifier\"][\"top_logprobs\"]\n",
    "}\n",
    "\n",
    "evaluator = Completion(oai_client=oai_client)\n",
    "evaluator_args = {\n",
    "    \"model\": cfg[\"evaluator\"][\"model\"],\n",
    "    \"system\": cfg[\"evaluator\"][\"system_prompt\"],\n",
    "    \"max_tokens\": cfg[\"evaluator\"][\"max_tokens\"],\n",
    "    \"temperature\": cfg[\"evaluator\"][\"temperature\"],\n",
    "    \"logprobs\": cfg[\"evaluator\"][\"logprobs\"],\n",
    "    \"top_logprobs\": cfg[\"evaluator\"][\"top_logprobs\"]\n",
    "}"
   ]
  },
  {
   "cell_type": "code",
   "execution_count": 6,
   "metadata": {},
   "outputs": [],
   "source": [
    "task = \"Kacey is picking out jewelry to wear for school. She has 10 rings, 4 bracelets, and 4 necklaces. How many jewelry combinations are possible if she is going to wear 1 ring, 1 bracelet, and 2 necklaces?\""
   ]
  },
  {
   "cell_type": "code",
   "execution_count": 7,
   "metadata": {},
   "outputs": [],
   "source": [
    "tree_root = TreeNode(task)"
   ]
  },
  {
   "cell_type": "code",
   "execution_count": 8,
   "metadata": {},
   "outputs": [
    {
     "name": "stdout",
     "output_type": "stream",
     "text": [
      "ChatCompletion(id='chatcmpl-AYO1lmOaOqjfioyVq24zkQnPVIzlJ', choices=[Choice(finish_reason='stop', index=0, logprobs=None, message=ChatCompletionMessage(content='<thought>Kacey can choose 1 ring from 10 options, 1 bracelet from 4 options, and 2 necklaces from 4 options, so we need to calculate the total combinations using the formula: 10 * 4 * (4 choose 2).</thought>', refusal=None, role='assistant', audio=None, function_call=None, tool_calls=None)), Choice(finish_reason='stop', index=1, logprobs=None, message=ChatCompletionMessage(content='<thought>To find the total combinations, I need to multiply the number of choices for each type of jewelry: 10 rings, 4 bracelets, and the number of ways to choose 2 necklaces from 4, which is calculated using combinations as C(4,2).</thought>', refusal=None, role='assistant', audio=None, function_call=None, tool_calls=None))], created=1732758877, model='gpt-4o-mini-2024-07-18', object='chat.completion', service_tier=None, system_fingerprint='fp_0705bf87c0', usage=CompletionUsage(completion_tokens=116, prompt_tokens=139, total_tokens=255, completion_tokens_details=CompletionTokensDetails(accepted_prediction_tokens=0, audio_tokens=0, reasoning_tokens=0, rejected_prediction_tokens=0), prompt_tokens_details=PromptTokensDetails(audio_tokens=0, cached_tokens=0)))\n"
     ]
    }
   ],
   "source": [
    "prompt = f\"<task>{task}</task>\\n(no previous thoughts)\\nNext thought:\"\n",
    "result = generator.run(prompt, **generator_args)\n",
    "print(result)"
   ]
  },
  {
   "cell_type": "code",
   "execution_count": 9,
   "metadata": {},
   "outputs": [
    {
     "name": "stdout",
     "output_type": "stream",
     "text": [
      "Thought 1:\n",
      "<thought>Kacey can choose 1 ring from 10 options, 1 bracelet from 4 options, and 2 necklaces from 4 options, so we need to calculate the total combinations using the formula: 10 * 4 * (4 choose 2).</thought>\n",
      "\n",
      "Thought 2:\n",
      "<thought>To find the total combinations, I need to multiply the number of choices for each type of jewelry: 10 rings, 4 bracelets, and the number of ways to choose 2 necklaces from 4, which is calculated using combinations as C(4,2).</thought>\n",
      "\n"
     ]
    }
   ],
   "source": [
    "for i, choice in enumerate(result.choices):\n",
    "    print(f\"Thought {i+1}:\\n{choice.message.content}\\n\")\n",
    "\n"
   ]
  },
  {
   "cell_type": "code",
   "execution_count": 10,
   "metadata": {},
   "outputs": [],
   "source": [
    "for choice in result.choices:\n",
    "    tree_node = TreeNode(choice.message.content)\n",
    "    tree_root.add_child(tree_node)"
   ]
  },
  {
   "cell_type": "code",
   "execution_count": 11,
   "metadata": {},
   "outputs": [],
   "source": [
    "current_paths = tree_root.get_paths()"
   ]
  },
  {
   "cell_type": "code",
   "execution_count": 23,
   "metadata": {},
   "outputs": [
    {
     "name": "stdout",
     "output_type": "stream",
     "text": [
      "<task>Kacey is picking out jewelry to wear for school. She has 10 rings, 4 bracelets, and 4 necklaces. How many jewelry combinations are possible if she is going to wear 1 ring, 1 bracelet, and 2 necklaces?</task>\n",
      "<thought>Kacey can choose 1 ring from 10 options, 1 bracelet from 4 options, and 2 necklaces from 4 options, so we need to calculate the total combinations using the formula: 10 * 4 * (4 choose 2).</thought>\n",
      "<thought>Kacey can choose 1 ring from 10 options, 1 bracelet from 4 options, and 2 necklaces from 4 options, so we need to calculate the total combinations using the formula: 10 * 4 * (4 choose 2).</thought>\n",
      "Last thought:\n",
      "<thought>Kacey can choose 1 ring from 10 options, 1 bracelet from 4 options, and 2 necklaces from 4 options, so we need to calculate the total combinations using the formula: 10 * 4 * (4 choose 2).</thought>\n",
      "correctness_scores = {'1': 99.48, '0': 0.52}\n",
      "helpfulness_scores = {'9': 55.48, '8': 43.21, '7': 1.3, '6': 0.01, '5': 0.0, 'The': 0.0, '4': 0.0, 'This': 0.0, 'I': 0.0, '10': 0.0}\n",
      "\n",
      "\n",
      "<task>Kacey is picking out jewelry to wear for school. She has 10 rings, 4 bracelets, and 4 necklaces. How many jewelry combinations are possible if she is going to wear 1 ring, 1 bracelet, and 2 necklaces?</task>\n",
      "<thought>To find the total combinations, I need to multiply the number of choices for each type of jewelry: 10 rings, 4 bracelets, and the number of ways to choose 2 necklaces from 4, which is calculated using combinations as C(4,2).</thought>\n",
      "<thought>To find the total combinations, I need to multiply the number of choices for each type of jewelry: 10 rings, 4 bracelets, and the number of ways to choose 2 necklaces from 4, which is calculated using combinations as C(4,2).</thought>\n",
      "Last thought:\n",
      "<thought>To find the total combinations, I need to multiply the number of choices for each type of jewelry: 10 rings, 4 bracelets, and the number of ways to choose 2 necklaces from 4, which is calculated using combinations as C(4,2).</thought>\n",
      "correctness_scores = {'1': 99.48, '0': 0.52}\n",
      "helpfulness_scores = {'9': 55.48, '8': 43.21, '7': 1.3, '6': 0.01, '5': 0.0, 'The': 0.0, '4': 0.0, 'This': 0.0, 'I': 0.0, '10': 0.0}\n",
      "\n",
      "\n"
     ]
    }
   ],
   "source": [
    "for path in current_paths:\n",
    "    prompt = f\"<task>{path[0].value}</task>\\n\"\n",
    "    if len(path) > 2:\n",
    "        prompt += \"\\n\".join([node.value for node in path[1:-1]])\n",
    "    prompt += f\"\\nLast thought:\\n{path[-1].value}\"\n",
    "    verifier_result = verifier.run(prompt, **verifier_args)\n",
    "    evaluator_result = evaluator.run(prompt, **evaluator_args)\n",
    "\n",
    "    correctness_scores = {\n",
    "        logprob.token: float(np.round(np.exp(logprob.logprob)*100,2))\n",
    "        for logprob in verifier_result.choices[0].logprobs.content[0].top_logprobs    \n",
    "    }\n",
    "    helpfulness_scores = {\n",
    "        logprob.token: float(np.round(np.exp(logprob.logprob)*100,2))\n",
    "        for logprob in evaluator_result.choices[0].logprobs.content[0].top_logprobs    \n",
    "    }\n",
    "    print(f\"{prompt}\\n{correctness_scores = }\\n{helpfulness_scores = }\\n\\n\")\n"
   ]
  },
  {
   "cell_type": "code",
   "execution_count": null,
   "metadata": {},
   "outputs": [],
   "source": []
  }
 ],
 "metadata": {
  "kernelspec": {
   "display_name": "venv",
   "language": "python",
   "name": "python3"
  },
  "language_info": {
   "codemirror_mode": {
    "name": "ipython",
    "version": 3
   },
   "file_extension": ".py",
   "mimetype": "text/x-python",
   "name": "python",
   "nbconvert_exporter": "python",
   "pygments_lexer": "ipython3",
   "version": "3.11.3"
  }
 },
 "nbformat": 4,
 "nbformat_minor": 2
}
